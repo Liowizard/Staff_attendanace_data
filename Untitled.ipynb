{
 "cells": [
  {
   "cell_type": "code",
   "execution_count": 1,
   "id": "53bac940",
   "metadata": {},
   "outputs": [],
   "source": [
    "import json\n",
    "import pandas as pd\n",
    "import numpy as np\n",
    "from datetime import datetime"
   ]
  },
  {
   "cell_type": "code",
   "execution_count": 2,
   "id": "23799d31",
   "metadata": {},
   "outputs": [],
   "source": [
    "f = open('schedule_attendances Prod Report.json', encoding=\"utf8\")"
   ]
  },
  {
   "cell_type": "code",
   "execution_count": 3,
   "id": "5222a97d",
   "metadata": {},
   "outputs": [],
   "source": [
    "data = json.load(f)"
   ]
  },
  {
   "cell_type": "code",
   "execution_count": 4,
   "id": "f391548f",
   "metadata": {},
   "outputs": [],
   "source": [
    "df = pd.DataFrame(data)"
   ]
  },
  {
   "cell_type": "code",
   "execution_count": 5,
   "id": "ec8fe78a",
   "metadata": {},
   "outputs": [],
   "source": [
    "colu=df.columns"
   ]
  },
  {
   "cell_type": "code",
   "execution_count": 11,
   "id": "44afdcda",
   "metadata": {},
   "outputs": [
    {
     "name": "stdout",
     "output_type": "stream",
     "text": [
      "_id:\n",
      "{'$oid': '63cacfca2bcdc560950572db'}\n",
      "\n",
      "    \n",
      "    \n",
      "    \n",
      "    -----------------------------------------------------------------------------------------------------------------\n",
      "    \n",
      "    \n",
      "    \n",
      "quizDetails:\n",
      "{'quiz': {'questions': []}}\n",
      "\n",
      "    \n",
      "    \n",
      "    \n",
      "    -----------------------------------------------------------------------------------------------------------------\n",
      "    \n",
      "    \n",
      "    \n",
      "scheduleId:\n",
      "[{'$oid': '63cabbe0440aaab7aa6c47b9'}]\n",
      "\n",
      "    \n",
      "    \n",
      "    \n",
      "    -----------------------------------------------------------------------------------------------------------------\n",
      "    \n",
      "    \n",
      "    \n",
      "isCompared:\n",
      "False\n",
      "\n",
      "    \n",
      "    \n",
      "    \n",
      "    -----------------------------------------------------------------------------------------------------------------\n",
      "    \n",
      "    \n",
      "    \n",
      "isLive:\n",
      "True\n",
      "\n",
      "    \n",
      "    \n",
      "    \n",
      "    -----------------------------------------------------------------------------------------------------------------\n",
      "    \n",
      "    \n",
      "    \n",
      "modeBy:\n",
      "retake_all\n",
      "\n",
      "    \n",
      "    \n",
      "    \n",
      "    -----------------------------------------------------------------------------------------------------------------\n",
      "    \n",
      "    \n",
      "    \n",
      "_staff_id:\n",
      "{'$oid': '62e37a9dbdc27d1a33766633'}\n",
      "\n",
      "    \n",
      "    \n",
      "    \n",
      "    -----------------------------------------------------------------------------------------------------------------\n",
      "    \n",
      "    \n",
      "    \n",
      "status:\n",
      "completed\n",
      "\n",
      "    \n",
      "    \n",
      "    \n",
      "    -----------------------------------------------------------------------------------------------------------------\n",
      "    \n",
      "    \n",
      "    \n",
      "students:\n",
      "[{'status': 'present', '_id': {'$oid': '63cad01d22d60d3519dd3d0c'}, '_student_id': {'$oid': '62e380af11ee39b8981a2abc'}, 'time': {'$date': {'$numberLong': '1674235933893'}}}]\n",
      "\n",
      "    \n",
      "    \n",
      "    \n",
      "    -----------------------------------------------------------------------------------------------------------------\n",
      "    \n",
      "    \n",
      "    \n",
      "createdAt:\n",
      "{'$date': {'$numberLong': '1674235850684'}}\n",
      "\n",
      "    \n",
      "    \n",
      "    \n",
      "    -----------------------------------------------------------------------------------------------------------------\n",
      "    \n",
      "    \n",
      "    \n",
      "updatedAt:\n",
      "{'$date': {'$numberLong': '1674235939553'}}\n",
      "\n",
      "    \n",
      "    \n",
      "    \n",
      "    -----------------------------------------------------------------------------------------------------------------\n",
      "    \n",
      "    \n",
      "    \n",
      "__v:\n",
      "0\n",
      "\n",
      "    \n",
      "    \n",
      "    \n",
      "    -----------------------------------------------------------------------------------------------------------------\n",
      "    \n",
      "    \n",
      "    \n"
     ]
    }
   ],
   "source": [
    "for col in colu:\n",
    "    print(col+\":\")\n",
    "    print(df[col][0])\n",
    "    print(\"\"\"\n",
    "    \n",
    "    \n",
    "    \n",
    "    -----------------------------------------------------------------------------------------------------------------\n",
    "    \n",
    "    \n",
    "    \"\"\")"
   ]
  },
  {
   "cell_type": "code",
   "execution_count": 13,
   "id": "50b7871b",
   "metadata": {},
   "outputs": [
    {
     "data": {
      "text/plain": [
       "(2291, 12)"
      ]
     },
     "execution_count": 13,
     "metadata": {},
     "output_type": "execute_result"
    }
   ],
   "source": [
    "df.shape"
   ]
  },
  {
   "cell_type": "code",
   "execution_count": null,
   "id": "9f0c2136",
   "metadata": {},
   "outputs": [],
   "source": []
  }
 ],
 "metadata": {
  "kernelspec": {
   "display_name": "Python 3 (ipykernel)",
   "language": "python",
   "name": "python3"
  },
  "language_info": {
   "codemirror_mode": {
    "name": "ipython",
    "version": 3
   },
   "file_extension": ".py",
   "mimetype": "text/x-python",
   "name": "python",
   "nbconvert_exporter": "python",
   "pygments_lexer": "ipython3",
   "version": "3.10.10"
  }
 },
 "nbformat": 4,
 "nbformat_minor": 5
}
